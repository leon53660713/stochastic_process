{
 "cells": [
  {
   "cell_type": "markdown",
   "id": "0321ae81",
   "metadata": {},
   "source": [
    "# 模擬馬可夫鍊"
   ]
  },
  {
   "cell_type": "markdown",
   "id": "fbc2ccef",
   "metadata": {},
   "source": [
    "## 理論值"
   ]
  },
  {
   "cell_type": "code",
   "execution_count": 1,
   "id": "ed35d6ab",
   "metadata": {
    "ExecuteTime": {
     "end_time": "2024-03-17T16:09:22.062063Z",
     "start_time": "2024-03-17T16:09:22.040990Z"
    }
   },
   "outputs": [
    {
     "name": "stdout",
     "output_type": "stream",
     "text": [
      "[[0.5       ]\n",
      " [0.66666667]\n",
      " [0.33333333]\n",
      " [0.5       ]\n",
      " [0.66666667]\n",
      " [0.33333333]\n",
      " [0.5       ]]\n"
     ]
    }
   ],
   "source": [
    "import numpy as np\n",
    "\n",
    "# 定義矩陣m\n",
    "origin_matrix = np.array([[1, -1/2, -1/2, 0, 0, 0, 0],\n",
    "              [-1/3, 1, 0, -1/3, 0, 0, 0],\n",
    "              [-1/3, 0, 1, -1/3, 0, 0, 0],\n",
    "              [0, -1/4, -1/4, 1, -1/4, -1/4, 0],\n",
    "              [0, 0, 0, -1/3, 1, 0, -1/3],\n",
    "              [0, 0, 0, -1/3, 0, 1, -1/3],\n",
    "              [0, 0, 0, 0, -1/2, -1/2, 1]])\n",
    "\n",
    "# 定義矩陣a\n",
    "arrive = np.array([[0], [1/3], [0], [0], [1/3], [0], [0]])\n",
    "\n",
    "# 求解方程組 m * x = a\n",
    "theory_val = np.linalg.solve(origin_matrix, arrive)\n",
    "\n",
    "print(theory_val)\n"
   ]
  },
  {
   "cell_type": "markdown",
   "id": "5b19a134",
   "metadata": {},
   "source": [
    "## 模擬值"
   ]
  },
  {
   "cell_type": "code",
   "execution_count": 2,
   "id": "923e5ed1",
   "metadata": {
    "ExecuteTime": {
     "end_time": "2024-03-17T16:09:22.124684Z",
     "start_time": "2024-03-17T16:09:22.106786Z"
    }
   },
   "outputs": [],
   "source": [
    "# create markov_chain\n",
    "import numpy as np\n",
    "\n",
    "# def matrix\n",
    "x0 = np.array([0, 1/2, 1/2, 0, 0, 0, 0, 0, 0])\n",
    "x1 = np.array([1/3, 0, 0, 1/3, 0, 0, 0, 1/3, 0])\n",
    "x2 = np.array([1/3, 0, 0, 1/3, 0, 0, 0, 0, 1/3])\n",
    "x3 = np.array([0, 1/4, 1/4, 0, 1/4, 1/4, 0, 0, 0])\n",
    "x4 = np.array([0, 0, 0, 1/3, 0, 0, 1/3, 1/3, 0])\n",
    "x5 = np.array([0, 0, 0, 1/3, 0, 0, 1/3, 0, 1/3])\n",
    "x6 = np.array([0, 0, 0, 0, 1/2, 1/2, 0, 0, 0])\n",
    "x7 = np.array([0, 0, 0, 0, 0, 0, 0, 0, 0, 1])\n",
    "x8 = np.array([0, 0, 0, 0, 0, 0, 0, 0, 0, 1])\n",
    "\n",
    "# def stop point\n",
    "stop_point = {7, 8}\n",
    "\n",
    "# def markov_chain\n",
    "def markov_chain(start_state, transition_matrix, stop_point):\n",
    "    current_state = start_state\n",
    "    while current_state not in stop_point:\n",
    "        current_state = np.random.choice(range(len(transition_matrix)), p=transition_matrix[current_state])\n",
    "    return current_state\n"
   ]
  },
  {
   "cell_type": "code",
   "execution_count": 3,
   "id": "e1399b86",
   "metadata": {
    "ExecuteTime": {
     "end_time": "2024-03-17T16:09:22.156792Z",
     "start_time": "2024-03-17T16:09:22.133231Z"
    }
   },
   "outputs": [],
   "source": [
    "# show result\n",
    "def prob_arrive_7(start_point, num_simulation):\n",
    "    total_arrival = 0\n",
    "    for _ in range(num_simulation):\n",
    "        final = markov_chain(start_point, [x0, x1, x2, x3, x4, x5, x6, x7, x8], stop_point)\n",
    "        if final == 7:\n",
    "            total_arrival += 1\n",
    "    probability_arrive_7 = total_arrival / num_simulation\n",
    "    return probability_arrive_7"
   ]
  },
  {
   "cell_type": "code",
   "execution_count": 4,
   "id": "3e4c4fb1",
   "metadata": {
    "ExecuteTime": {
     "end_time": "2024-03-17T16:09:22.920622Z",
     "start_time": "2024-03-17T16:09:22.167852Z"
    }
   },
   "outputs": [
    {
     "name": "stdout",
     "output_type": "stream",
     "text": [
      "0.498\n",
      "0.686\n",
      "0.325\n",
      "0.509\n",
      "0.682\n",
      "0.339\n",
      "0.518\n"
     ]
    }
   ],
   "source": [
    "# start from diff val\n",
    "for i in range(7):\n",
    "    probability = prob_arrive_7(i, 1000)\n",
    "    print(probability)"
   ]
  },
  {
   "cell_type": "markdown",
   "id": "23f19a53",
   "metadata": {},
   "source": [
    "## 製作成表格"
   ]
  },
  {
   "cell_type": "code",
   "execution_count": 6,
   "id": "912518ac",
   "metadata": {
    "ExecuteTime": {
     "end_time": "2024-03-17T16:09:42.946045Z",
     "start_time": "2024-03-17T16:09:42.305849Z"
    }
   },
   "outputs": [
    {
     "data": {
      "text/html": [
       "<div>\n",
       "<style scoped>\n",
       "    .dataframe tbody tr th:only-of-type {\n",
       "        vertical-align: middle;\n",
       "    }\n",
       "\n",
       "    .dataframe tbody tr th {\n",
       "        vertical-align: top;\n",
       "    }\n",
       "\n",
       "    .dataframe thead th {\n",
       "        text-align: right;\n",
       "    }\n",
       "</style>\n",
       "<table border=\"1\" class=\"dataframe\">\n",
       "  <thead>\n",
       "    <tr style=\"text-align: right;\">\n",
       "      <th></th>\n",
       "      <th>起始點</th>\n",
       "      <th>理論值</th>\n",
       "      <th>模擬到達 7 的機率</th>\n",
       "    </tr>\n",
       "  </thead>\n",
       "  <tbody>\n",
       "    <tr>\n",
       "      <th>0</th>\n",
       "      <td>0</td>\n",
       "      <td>0.5</td>\n",
       "      <td>0.521</td>\n",
       "    </tr>\n",
       "    <tr>\n",
       "      <th>1</th>\n",
       "      <td>1</td>\n",
       "      <td>0.667</td>\n",
       "      <td>0.655</td>\n",
       "    </tr>\n",
       "    <tr>\n",
       "      <th>2</th>\n",
       "      <td>2</td>\n",
       "      <td>0.333</td>\n",
       "      <td>0.348</td>\n",
       "    </tr>\n",
       "    <tr>\n",
       "      <th>3</th>\n",
       "      <td>3</td>\n",
       "      <td>0.5</td>\n",
       "      <td>0.507</td>\n",
       "    </tr>\n",
       "    <tr>\n",
       "      <th>4</th>\n",
       "      <td>4</td>\n",
       "      <td>0.667</td>\n",
       "      <td>0.642</td>\n",
       "    </tr>\n",
       "    <tr>\n",
       "      <th>5</th>\n",
       "      <td>5</td>\n",
       "      <td>0.333</td>\n",
       "      <td>0.345</td>\n",
       "    </tr>\n",
       "    <tr>\n",
       "      <th>6</th>\n",
       "      <td>6</td>\n",
       "      <td>0.5</td>\n",
       "      <td>0.509</td>\n",
       "    </tr>\n",
       "  </tbody>\n",
       "</table>\n",
       "</div>"
      ],
      "text/plain": [
       "  起始點    理論值 模擬到達 7 的機率\n",
       "0   0    0.5      0.521\n",
       "1   1  0.667      0.655\n",
       "2   2  0.333      0.348\n",
       "3   3    0.5      0.507\n",
       "4   4  0.667      0.642\n",
       "5   5  0.333      0.345\n",
       "6   6    0.5      0.509"
      ]
     },
     "execution_count": 6,
     "metadata": {},
     "output_type": "execute_result"
    }
   ],
   "source": [
    "# organize into table\n",
    "import pandas as pd\n",
    "\n",
    "results = pd.DataFrame(columns=['起始點','理論值', '模擬到達 7 的機率'])\n",
    "\n",
    "for i in range(7):\n",
    "    probability = prob_arrive_7(i, 1000)\n",
    "    results = pd.concat([results, pd.DataFrame({'起始點': [i], '理論值': [round(theory_val[i][0], 3)], '模擬到達 7 的機率': [probability]})], ignore_index=True)\n",
    "\n",
    "results"
   ]
  },
  {
   "cell_type": "code",
   "execution_count": null,
   "id": "2293b1f4",
   "metadata": {},
   "outputs": [],
   "source": []
  },
  {
   "cell_type": "code",
   "execution_count": null,
   "id": "d6dbf45d",
   "metadata": {},
   "outputs": [],
   "source": []
  },
  {
   "cell_type": "code",
   "execution_count": null,
   "id": "4872d126",
   "metadata": {},
   "outputs": [],
   "source": []
  },
  {
   "cell_type": "code",
   "execution_count": null,
   "id": "1e2e795b",
   "metadata": {},
   "outputs": [],
   "source": []
  }
 ],
 "metadata": {
  "kernelspec": {
   "display_name": "Python 3 (ipykernel)",
   "language": "python",
   "name": "python3"
  },
  "language_info": {
   "codemirror_mode": {
    "name": "ipython",
    "version": 3
   },
   "file_extension": ".py",
   "mimetype": "text/x-python",
   "name": "python",
   "nbconvert_exporter": "python",
   "pygments_lexer": "ipython3",
   "version": "3.9.12"
  },
  "latex_envs": {
   "LaTeX_envs_menu_present": true,
   "autoclose": false,
   "autocomplete": true,
   "bibliofile": "biblio.bib",
   "cite_by": "apalike",
   "current_citInitial": 1,
   "eqLabelWithNumbers": true,
   "eqNumInitial": 1,
   "hotkeys": {
    "equation": "Ctrl-E",
    "itemize": "Ctrl-I"
   },
   "labels_anchors": false,
   "latex_user_defs": false,
   "report_style_numbering": false,
   "user_envs_cfg": false
  },
  "toc": {
   "base_numbering": 1,
   "nav_menu": {},
   "number_sections": true,
   "sideBar": true,
   "skip_h1_title": false,
   "title_cell": "Table of Contents",
   "title_sidebar": "Contents",
   "toc_cell": false,
   "toc_position": {},
   "toc_section_display": true,
   "toc_window_display": true
  },
  "varInspector": {
   "cols": {
    "lenName": 16,
    "lenType": 16,
    "lenVar": 40
   },
   "kernels_config": {
    "python": {
     "delete_cmd_postfix": "",
     "delete_cmd_prefix": "del ",
     "library": "var_list.py",
     "varRefreshCmd": "print(var_dic_list())"
    },
    "r": {
     "delete_cmd_postfix": ") ",
     "delete_cmd_prefix": "rm(",
     "library": "var_list.r",
     "varRefreshCmd": "cat(var_dic_list()) "
    }
   },
   "types_to_exclude": [
    "module",
    "function",
    "builtin_function_or_method",
    "instance",
    "_Feature"
   ],
   "window_display": false
  }
 },
 "nbformat": 4,
 "nbformat_minor": 5
}
