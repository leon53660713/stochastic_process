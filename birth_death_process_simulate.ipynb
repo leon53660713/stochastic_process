{
 "cells": [
  {
   "cell_type": "markdown",
   "id": "2d422424",
   "metadata": {},
   "source": [
    "# birth_death_process"
   ]
  },
  {
   "cell_type": "markdown",
   "id": "be7cd279",
   "metadata": {},
   "source": [
    "## Q1.\n",
    "state process 為何 ? <br>\n",
    "state process $= {0, 1, 2, 3, ....}$ <br>"
   ]
  },
  {
   "attachments": {},
   "cell_type": "markdown",
   "id": "abe79b7b",
   "metadata": {},
   "source": [
    "## Q2.\n",
    "$P = [P_{ij}]$ 為何 ? <br>\n",
    "$\\because \\mu_n = \\begin{cases} n \\mu,\\ 1 \\le n \\le s \\\\ s \\mu,\\ n > s \\end{cases} \\\\ \\lambda_n = \\lambda,\\ n \\ge 0$ <br>\n",
    "$\\therefore$ <br>\n",
    "![Q2_matrix](./Q2_matrix.jpg) <br>\n",
    "pdf 中可能沒有出現圖片，因此可以參考檔案 : \"Q2_matrix.jpg\" <br>"
   ]
  },
  {
   "cell_type": "markdown",
   "id": "5b73693e",
   "metadata": {},
   "source": [
    "## Q3.\n",
    "$v_i  = ?$ <br>\n",
    "$v_0 = \\lambda + \\mu$ <br>\n",
    "$v_1 = \\lambda + 2 \\mu$ <br>\n",
    "$v_2 = \\lambda + 3 \\mu$ <br>\n",
    "$......$ <br>\n",
    "$v_s = \\lambda + s \\mu$ <br>\n",
    "$v_{s+1} = \\lambda + s \\mu$ <br>"
   ]
  },
  {
   "cell_type": "markdown",
   "id": "d866fd0f",
   "metadata": {},
   "source": [
    "## Q4\n",
    "給定 $\\lambda = 3,\\ \\mu = 1,\\ S = 5$ <br>\n",
    "完成以下問題 <br>"
   ]
  },
  {
   "cell_type": "markdown",
   "id": "a6716695",
   "metadata": {},
   "source": [
    "### 4(a)\n",
    "用上述公式算出 state 1 移到 state 4 所花費的時間 <br>\n",
    "$E(T_1) + E(T_2) + E(T_3)$ <br>\n",
    "$E(T_1) = \\cfrac{1}{\\lambda} + \\cfrac{\\mu_1}{\\lambda} * E(T_0) = \\cfrac{1}{3} + \\cfrac{1}{3} * \\cfrac{1}{3} = \\cfrac{4}{9}$ <br>\n",
    "$E(T_2) = \\cfrac{1}{\\lambda} + \\cfrac{\\mu_2}{\\lambda} * E(T_1) = \\cfrac{1}{3} + \\cfrac{2}{3} * \\cfrac{4}{9} = \\cfrac{17}{27}$ <br>\n",
    "$E(T_3) = \\cfrac{1}{\\lambda} + \\cfrac{\\mu_3}{\\lambda} * E(T_2) = \\cfrac{1}{3} + \\cfrac{3}{3} * \\cfrac{17}{27} = \\cfrac{26}{27}$ <br>\n",
    "$\\Rightarrow E(T_1) + E(T_2) + E(T_3) = \\cfrac{4}{9} + \\cfrac{17}{27} + \\cfrac{26}{27} = \\cfrac{55}{27}$ <br>"
   ]
  },
  {
   "cell_type": "markdown",
   "id": "d97d5e31",
   "metadata": {},
   "source": [
    "### 4(b)\n",
    "$X(0) = 1$ 模擬 $1000$ 個 sample path，觀察每個 sample path 從 $1$ 到 $4$ 所需時間，並且計算出平均值 & 與 4(a) 比較 <br>"
   ]
  },
  {
   "cell_type": "code",
   "execution_count": 1,
   "id": "d450f23b",
   "metadata": {
    "ExecuteTime": {
     "end_time": "2024-05-26T12:07:38.622605Z",
     "start_time": "2024-05-26T12:07:38.582985Z"
    }
   },
   "outputs": [
    {
     "name": "stdout",
     "output_type": "stream",
     "text": [
      "X(0) = 1 的模擬結果 : 2.03387188227364\n",
      "X(0) = 1 的理論結果 : 2.037037037037037\n"
     ]
    }
   ],
   "source": [
    "import numpy as np\n",
    "import random\n",
    "\n",
    "# set seed\n",
    "np.random.seed(411078042)\n",
    "random.seed(411078042)\n",
    "\n",
    "# basic setting\n",
    "lambda_val = 3\n",
    "mu = 1\n",
    "s = 5\n",
    "repeat = 1000\n",
    "\n",
    "# def death_rate\n",
    "def death_rate(n):\n",
    "    if n <= s:\n",
    "        return n * mu\n",
    "    else:\n",
    "        return s * mu\n",
    "\n",
    "# save cum_time_1\n",
    "cum_time_1 = []\n",
    "\n",
    "for _ in range(repeat):\n",
    "    current_step = 1 # X(0)'s val\n",
    "    time = 0\n",
    "\n",
    "    while current_step != 4:\n",
    "        rate = lambda_val + death_rate(current_step)\n",
    "        time += np.random.exponential(1 / rate)\n",
    "        move_way = random.choices([-1, 1], weights=[death_rate(current_step), lambda_val])[0]\n",
    "        current_step += move_way\n",
    "\n",
    "    cum_time_1.append(time)\n",
    "\n",
    "mean_time_1 = np.mean(cum_time_1)\n",
    "print(\"X(0) = 1 的模擬結果 :\", mean_time_1)\n",
    "print(\"X(0) = 1 的理論結果 :\", 55/27)\n",
    "# 可以發現模擬與理論其實沒多大的差異"
   ]
  },
  {
   "cell_type": "markdown",
   "id": "9c5567a5",
   "metadata": {},
   "source": [
    "### 4(c)\n",
    "$X(0) = 20$ 模擬 $1000$ 個 sample path，觀察每個 sample path 從 $1$ 到 $4$ 所需時間，並且計算出平均值 <br>"
   ]
  },
  {
   "cell_type": "code",
   "execution_count": 2,
   "id": "8d230d5a",
   "metadata": {
    "ExecuteTime": {
     "end_time": "2024-05-26T12:07:39.311752Z",
     "start_time": "2024-05-26T12:07:39.107696Z"
    }
   },
   "outputs": [
    {
     "name": "stdout",
     "output_type": "stream",
     "text": [
      "X(0) = 20 的模擬結果 : 7.973617376326212\n"
     ]
    }
   ],
   "source": [
    "# set seed\n",
    "np.random.seed(411078042)\n",
    "random.seed(411078042)\n",
    "\n",
    "# basic setting\n",
    "# as above\n",
    "\n",
    "# save cum_time_2\n",
    "cum_time_2 = []\n",
    "\n",
    "for _ in range(repeat):\n",
    "    current_step = 20 # X(0)'s val\n",
    "    time = 0\n",
    "\n",
    "    while current_step != 4:\n",
    "        rate = lambda_val + death_rate(current_step)\n",
    "        time += np.random.exponential(1 / rate)\n",
    "        move_way = random.choices([-1, 1], weights=[death_rate(current_step), lambda_val])[0]\n",
    "        current_step += move_way\n",
    "\n",
    "    cum_time_2.append(time)\n",
    "\n",
    "mean_time_2 = np.mean(cum_time_2)\n",
    "print(\"X(0) = 20 的模擬結果 :\", mean_time_2)"
   ]
  },
  {
   "cell_type": "markdown",
   "id": "b21c9c82",
   "metadata": {},
   "source": [
    "### 4(d)\n",
    "$X(0) = 11$ 模擬 $200$ 個 sample path，觀察每個 sample path 到時間 $7$，觀察每個 sample path 在這段時間之內有多少個(n 個) sample path 碰到 $0$ <br>"
   ]
  },
  {
   "cell_type": "code",
   "execution_count": 3,
   "id": "70c8f39a",
   "metadata": {
    "ExecuteTime": {
     "end_time": "2024-05-26T12:07:40.765953Z",
     "start_time": "2024-05-26T12:07:40.723397Z"
    }
   },
   "outputs": [
    {
     "name": "stdout",
     "output_type": "stream",
     "text": [
      "X(0) = 11, 在 200 個 sample path 到時間 T = 7 中，模擬出總共有 56 個碰到 state 0\n"
     ]
    }
   ],
   "source": [
    "# set seed\n",
    "np.random.seed(411078042)\n",
    "random.seed(411078042)\n",
    "\n",
    "# basic setting\n",
    "# as above\n",
    "repeat = 200\n",
    "\n",
    "# save cum_zero_list\n",
    "cum_zero_list = []\n",
    "\n",
    "for _ in range(repeat):\n",
    "    current_step = 11 # X(0)'s val\n",
    "    time = 0\n",
    "    zero = 0\n",
    "    i = 0\n",
    "    current_step_state = []\n",
    "\n",
    "    while time <= 7:\n",
    "        rate = lambda_val + death_rate(current_step)\n",
    "        time += np.random.exponential(1 / rate)\n",
    "        if time <= 7:\n",
    "            i += 1\n",
    "            move_way = random.choices([-1, 1], weights=[death_rate(current_step), lambda_val])[0]\n",
    "            current_step += move_way\n",
    "            current_step_state.append(current_step)\n",
    "            if current_step == 0:\n",
    "                zero = 1\n",
    "\n",
    "    cum_zero_list.append(zero)\n",
    "\n",
    "sum_zero = sum(cum_zero_list)\n",
    "\n",
    "print(f'X(0) = 11, 在 200 個 sample path 到時間 T = 7 中，模擬出總共有 {sum_zero} 個碰到 state 0')"
   ]
  },
  {
   "cell_type": "code",
   "execution_count": null,
   "id": "9869d858",
   "metadata": {},
   "outputs": [],
   "source": []
  }
 ],
 "metadata": {
  "kernelspec": {
   "display_name": "Python 3 (ipykernel)",
   "language": "python",
   "name": "python3"
  },
  "language_info": {
   "codemirror_mode": {
    "name": "ipython",
    "version": 3
   },
   "file_extension": ".py",
   "mimetype": "text/x-python",
   "name": "python",
   "nbconvert_exporter": "python",
   "pygments_lexer": "ipython3",
   "version": "3.9.12"
  },
  "latex_envs": {
   "LaTeX_envs_menu_present": true,
   "autoclose": false,
   "autocomplete": true,
   "bibliofile": "biblio.bib",
   "cite_by": "apalike",
   "current_citInitial": 1,
   "eqLabelWithNumbers": true,
   "eqNumInitial": 1,
   "hotkeys": {
    "equation": "Ctrl-E",
    "itemize": "Ctrl-I"
   },
   "labels_anchors": false,
   "latex_user_defs": false,
   "report_style_numbering": false,
   "user_envs_cfg": false
  },
  "toc": {
   "base_numbering": 1,
   "nav_menu": {},
   "number_sections": true,
   "sideBar": true,
   "skip_h1_title": false,
   "title_cell": "Table of Contents",
   "title_sidebar": "Contents",
   "toc_cell": false,
   "toc_position": {
    "height": "calc(100% - 180px)",
    "left": "10px",
    "top": "150px",
    "width": "515.391px"
   },
   "toc_section_display": true,
   "toc_window_display": true
  },
  "varInspector": {
   "cols": {
    "lenName": 16,
    "lenType": 16,
    "lenVar": 40
   },
   "kernels_config": {
    "python": {
     "delete_cmd_postfix": "",
     "delete_cmd_prefix": "del ",
     "library": "var_list.py",
     "varRefreshCmd": "print(var_dic_list())"
    },
    "r": {
     "delete_cmd_postfix": ") ",
     "delete_cmd_prefix": "rm(",
     "library": "var_list.r",
     "varRefreshCmd": "cat(var_dic_list()) "
    }
   },
   "types_to_exclude": [
    "module",
    "function",
    "builtin_function_or_method",
    "instance",
    "_Feature"
   ],
   "window_display": false
  }
 },
 "nbformat": 4,
 "nbformat_minor": 5
}
