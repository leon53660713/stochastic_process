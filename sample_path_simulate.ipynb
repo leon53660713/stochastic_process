{
 "cells": [
  {
   "cell_type": "markdown",
   "id": "db0f1275",
   "metadata": {},
   "source": [
    "# sample_path_simulate"
   ]
  },
  {
   "cell_type": "markdown",
   "id": "09f32410",
   "metadata": {},
   "source": [
    "## 定義 probability matrix"
   ]
  },
  {
   "cell_type": "code",
   "execution_count": 3,
   "id": "1ba629d9",
   "metadata": {
    "ExecuteTime": {
     "end_time": "2024-04-08T05:40:17.842303Z",
     "start_time": "2024-04-08T05:40:17.823291Z"
    }
   },
   "outputs": [],
   "source": [
    "import numpy as np\n",
    "import time\n",
    "\n",
    "def p(x):\n",
    "    if x == 0:\n",
    "        out = np.random.choice([0, 1, 2], p=[0.1, 0.1, 0.8])\n",
    "    elif x == 1:\n",
    "        out = np.random.choice([0, 1, 2], p=[0.2, 0.2, 0.6])\n",
    "    elif x == 2:\n",
    "        out = np.random.choice([0, 1, 2], p=[0.3, 0.3, 0.4])\n",
    "    return out\n",
    "\n",
    "\n"
   ]
  },
  {
   "cell_type": "markdown",
   "id": "3b8bedc9",
   "metadata": {},
   "source": [
    "## 計算 100 個 $X_{10000}$"
   ]
  },
  {
   "cell_type": "code",
   "execution_count": 11,
   "id": "096293ec",
   "metadata": {
    "ExecuteTime": {
     "end_time": "2024-04-08T05:53:24.525892Z",
     "start_time": "2024-04-08T05:53:13.469566Z"
    }
   },
   "outputs": [
    {
     "name": "stdout",
     "output_type": "stream",
     "text": [
      "Execution time: 11.04283094406128 seconds\n",
      "[0.21 0.32 0.47]\n"
     ]
    }
   ],
   "source": [
    "start_time = time.time()\n",
    "A = []\n",
    "for _ in range(100):\n",
    "    start = 0\n",
    "    for _ in range(10000):\n",
    "        start = p(start)\n",
    "    A.append(start)\n",
    "\n",
    "execution_time = time.time() - start_time\n",
    "print(\"Execution time:\", execution_time, \"seconds\")\n",
    "print(np.unique(A, return_counts=True)[1] / len(A))"
   ]
  },
  {
   "cell_type": "markdown",
   "id": "2e085f0a",
   "metadata": {},
   "source": [
    "## 計算 10000 個 $X_{100}$"
   ]
  },
  {
   "cell_type": "code",
   "execution_count": 12,
   "id": "35a08501",
   "metadata": {
    "ExecuteTime": {
     "end_time": "2024-04-08T05:54:25.506655Z",
     "start_time": "2024-04-08T05:54:14.366504Z"
    }
   },
   "outputs": [
    {
     "name": "stdout",
     "output_type": "stream",
     "text": [
      "Execution time: 11.119113206863403 seconds\n",
      "[0.2338 0.2288 0.5374]\n"
     ]
    }
   ],
   "source": [
    "start_time = time.time()\n",
    "A = []\n",
    "for _ in range(10000):\n",
    "    start = 0\n",
    "    for _ in range(100):\n",
    "        start = p(start)\n",
    "    A.append(start)\n",
    "\n",
    "execution_time = time.time() - start_time\n",
    "print(\"Execution time:\", execution_time, \"seconds\")\n",
    "print(np.unique(A, return_counts=True)[1] / len(A))"
   ]
  },
  {
   "cell_type": "markdown",
   "id": "5c42d70e",
   "metadata": {},
   "source": [
    "## 計算 1 個 $X_{1} \\sim X_{1000000}$"
   ]
  },
  {
   "cell_type": "code",
   "execution_count": 13,
   "id": "b09e7442",
   "metadata": {
    "ExecuteTime": {
     "end_time": "2024-04-08T05:54:37.089232Z",
     "start_time": "2024-04-08T05:54:25.541268Z"
    }
   },
   "outputs": [
    {
     "name": "stdout",
     "output_type": "stream",
     "text": [
      "Execution time: 11.502929210662842 seconds\n",
      "[0.23111277 0.23011877 0.53876846]\n"
     ]
    }
   ],
   "source": [
    "start_time = time.time()\n",
    "A = np.zeros(1000001)\n",
    "start = 0\n",
    "for i in range(1, 1000001):\n",
    "    start = p(start)\n",
    "    A[i] = start\n",
    "\n",
    "execution_time = time.time() - start_time\n",
    "print(\"Execution time:\", execution_time, \"seconds\")\n",
    "print(np.unique(A, return_counts=True)[1] / len(A))"
   ]
  },
  {
   "cell_type": "markdown",
   "id": "90a76e56",
   "metadata": {},
   "source": [
    "## 結論\n",
    "從上述的計算時間可以看出其實 3 者的收斂速度沒有太大的差異"
   ]
  },
  {
   "cell_type": "code",
   "execution_count": null,
   "id": "8278c1c2",
   "metadata": {},
   "outputs": [],
   "source": []
  }
 ],
 "metadata": {
  "kernelspec": {
   "display_name": "Python 3 (ipykernel)",
   "language": "python",
   "name": "python3"
  },
  "language_info": {
   "codemirror_mode": {
    "name": "ipython",
    "version": 3
   },
   "file_extension": ".py",
   "mimetype": "text/x-python",
   "name": "python",
   "nbconvert_exporter": "python",
   "pygments_lexer": "ipython3",
   "version": "3.9.12"
  },
  "latex_envs": {
   "LaTeX_envs_menu_present": true,
   "autoclose": false,
   "autocomplete": true,
   "bibliofile": "biblio.bib",
   "cite_by": "apalike",
   "current_citInitial": 1,
   "eqLabelWithNumbers": true,
   "eqNumInitial": 1,
   "hotkeys": {
    "equation": "Ctrl-E",
    "itemize": "Ctrl-I"
   },
   "labels_anchors": false,
   "latex_user_defs": false,
   "report_style_numbering": false,
   "user_envs_cfg": false
  },
  "toc": {
   "base_numbering": 1,
   "nav_menu": {},
   "number_sections": true,
   "sideBar": true,
   "skip_h1_title": false,
   "title_cell": "Table of Contents",
   "title_sidebar": "Contents",
   "toc_cell": false,
   "toc_position": {},
   "toc_section_display": true,
   "toc_window_display": true
  },
  "varInspector": {
   "cols": {
    "lenName": 16,
    "lenType": 16,
    "lenVar": 40
   },
   "kernels_config": {
    "python": {
     "delete_cmd_postfix": "",
     "delete_cmd_prefix": "del ",
     "library": "var_list.py",
     "varRefreshCmd": "print(var_dic_list())"
    },
    "r": {
     "delete_cmd_postfix": ") ",
     "delete_cmd_prefix": "rm(",
     "library": "var_list.r",
     "varRefreshCmd": "cat(var_dic_list()) "
    }
   },
   "types_to_exclude": [
    "module",
    "function",
    "builtin_function_or_method",
    "instance",
    "_Feature"
   ],
   "window_display": false
  }
 },
 "nbformat": 4,
 "nbformat_minor": 5
}
